{
 "cells": [
  {
   "cell_type": "markdown",
   "metadata": {
    "pycharm": {
     "is_executing": false,
     "name": "#%% md\n"
    }
   },
   "source": [
    "# Quantum registers\n",
    "NOTE: this notebook follows the contents of chapter 03 of **Mastering Quantum Computing with IBM QX**. The original code is available at https://github.com/PacktPublishing/Mastering-Quantum-Computing-with-IBM-QX\n",
    "\n",
    "A quantum register is a superposition of n qubits. While a n-bits classical register can store only one value at a time among the $2^n$ possible states, a **quantum register can store any linear combination of the those states**.\n",
    "$\\newcommand{\\ket}[1]{\\left|{#1}\\right\\rangle}$\n",
    "$\\newcommand{\\bra}[1]{\\left\\langle{#1}\\right|}$"
   ]
  },
  {
   "cell_type": "code",
   "execution_count": 1,
   "metadata": {
    "pycharm": {
     "is_executing": false
    }
   },
   "outputs": [],
   "source": [
    "from math import log\n",
    "\n",
    "import numpy as np\n",
    "from functools import reduce\n",
    "from itertools import product\n",
    "\n",
    "from core.qc import *"
   ]
  },
  {
   "cell_type": "markdown",
   "metadata": {},
   "source": [
    "A single qubit lies in a Hilbert space $\\mathcal{H}_{1}$ whose orthonormal basis is {$\\ket{{0}}$, $\\ket{1}$}.\n",
    "\n",
    "A quantum register made up of 2 qubits lies in the Hilbert $\\mathcal{H}$ given by the tensor product of the spaces of the composing qubits: $\\mathcal{H} = \\mathcal{H}_{1} \\otimes \\mathcal{H}_{2}$. The basis of the new space is {$\\ket{00}$, $\\ket{01}$, $\\ket{10}$, $\\ket{11}$}."
   ]
  },
  {
   "cell_type": "code",
   "execution_count": 2,
   "metadata": {
    "pycharm": {
     "is_executing": false,
     "name": "#%%\n"
    }
   },
   "outputs": [],
   "source": [
    "def create_quantum_state(qubits):\n",
    "    return reduce(lambda x,y: np.kron(x, y), qubits)"
   ]
  },
  {
   "cell_type": "code",
   "execution_count": 3,
   "metadata": {},
   "outputs": [
    {
     "name": "stdout",
     "output_type": "stream",
     "text": [
      "[0 1 0 0]\n"
     ]
    }
   ],
   "source": [
    "# create a quantum register from |0> and |1>\n",
    "reg_01 = create_quantum_state([zero_qubit, one_qubit])\n",
    "print(reg_01)"
   ]
  },
  {
   "cell_type": "code",
   "execution_count": 4,
   "metadata": {},
   "outputs": [
    {
     "name": "stdout",
     "output_type": "stream",
     "text": [
      "[0 0 0 0 0 0 0 0 0 0 1 0 0 0 0 0]\n"
     ]
    }
   ],
   "source": [
    "reg_four_qubits = create_quantum_state([one_qubit, zero_qubit, one_qubit, zero_qubit])\n",
    "print(reg_four_qubits)"
   ]
  },
  {
   "cell_type": "code",
   "execution_count": 5,
   "metadata": {},
   "outputs": [
    {
     "name": "stdout",
     "output_type": "stream",
     "text": [
      "[ 0.5 -0.5  0.5 -0.5]\n",
      "[0.5 0.5 0.5 0.5]\n"
     ]
    }
   ],
   "source": [
    "reg_plus_minus = create_quantum_state([plus_qubit, minus_qubit])\n",
    "print(reg_plus_minus)\n",
    "\n",
    "reg_plus_plus = create_quantum_state([plus_qubit, plus_qubit])\n",
    "print(reg_plus_plus)"
   ]
  },
  {
   "cell_type": "markdown",
   "metadata": {},
   "source": [
    "## Separable states\n",
    "The following function tries to guess which qubits generated a certain quantum state."
   ]
  },
  {
   "cell_type": "code",
   "execution_count": 6,
   "metadata": {},
   "outputs": [
    {
     "name": "stdout",
     "output_type": "stream",
     "text": [
      "(array([1, 0]), array([0, 1]))\n",
      "(array([0.70710678, 0.70710678]), array([0.70710678, 0.70710678]))\n",
      "(array([0.70710678, 0.70710678]), array([ 0.70710678, -0.70710678]))\n"
     ]
    }
   ],
   "source": [
    "def guess_qubits(quantum_state):\n",
    "    v = [zero_qubit, one_qubit, plus_qubit, minus_qubit, cw_qubit, ccw_qubit]\n",
    "    n_qubits = int(log(quantum_state.size, 2))\n",
    "    \n",
    "    # product computes the cartesian product of the input iterables\n",
    "    # product(v, repeat=3) is the same as product(v, v, v)\n",
    "    for qubits in product(v, repeat=n_qubits):\n",
    "        guess = create_quantum_state(qubits)\n",
    "        \n",
    "        # check if the guessed state and the input are element-wise equal\n",
    "        if np.allclose(guess, quantum_state):\n",
    "            return qubits\n",
    "\n",
    "\n",
    "print(guess_qubits(reg_01))\n",
    "print(guess_qubits(reg_plus_plus))\n",
    "print(guess_qubits(reg_plus_minus))"
   ]
  },
  {
   "cell_type": "markdown",
   "metadata": {},
   "source": [
    "## Entangled state\n",
    "\n",
    "Some quantum states can not be separated following this procedure without any modifications. An improvement could be obtained by increasing the elements in the list $v$. This is not, however, a feasible path due to the computational costs.\n",
    "A non-separable state is known as **entangled state**.\n",
    "\n",
    "One example of an entangled state is $\\ket{\\psi} = \\frac{\\ket{00} + \\ket{11}}{\\sqrt{2}}$."
   ]
  },
  {
   "cell_type": "code",
   "execution_count": 7,
   "metadata": {},
   "outputs": [
    {
     "name": "stdout",
     "output_type": "stream",
     "text": [
      "[0.70710678 0.         0.         0.70710678]\n",
      "None\n"
     ]
    }
   ],
   "source": [
    "psi = 1/np.sqrt(2) * (create_quantum_state([zero_qubit, zero_qubit]) + create_quantum_state([one_qubit, one_qubit]))\n",
    "\n",
    "print(psi)\n",
    "print(guess_qubits(psi))"
   ]
  },
  {
   "cell_type": "markdown",
   "metadata": {},
   "source": [
    "## Quantum measurements"
   ]
  },
  {
   "cell_type": "code",
   "execution_count": 8,
   "metadata": {},
   "outputs": [
    {
     "name": "stdout",
     "output_type": "stream",
     "text": [
      "|1010>\n"
     ]
    }
   ],
   "source": [
    "from random import random\n",
    "\n",
    "def measure(state):\n",
    "    n = int(log(state.size, 2))\n",
    "    \n",
    "    # element-wise product\n",
    "    probabilities = state.conj() * state\n",
    "    \n",
    "    rand = random()\n",
    "    for idx, realization in enumerate(product([0, 1], repeat=n)):\n",
    "        if rand < sum(probabilities[0:(idx+1)]):\n",
    "            return \"|\" + \"\".join(map(str, realization)) + \">\"\n",
    "\n",
    "\n",
    "print(measure(reg_four_qubits))"
   ]
  },
  {
   "cell_type": "markdown",
   "metadata": {},
   "source": [
    "The _rand_ variable in the measure function introduces a source of randomness in the result of the measure. This is not evident in the _reg_four_qubits_ since only one state is possible with probability exactly 1.0.\n",
    "\n",
    "Insted if we measure the $\\ket{\\psi}$ state defined before the function will output $\\ket{00}$ and $\\ket{11}$ with the same probability. The reason is that rand is the realization of a uniform distrubtion over $[0, 1)$: half of the time _rand_ is below $0.5$, the other half is above.\n",
    "\n",
    "The following cell demonstrantes this behaviour:"
   ]
  },
  {
   "cell_type": "code",
   "execution_count": 9,
   "metadata": {},
   "outputs": [
    {
     "name": "stdout",
     "output_type": "stream",
     "text": [
      "|00> with probability  51.0\n",
      "|11> with probability  49.0\n"
     ]
    }
   ],
   "source": [
    "def build_psi():\n",
    "    return 1 / np.sqrt(2) * (create_quantum_state([zero_qubit, zero_qubit]) + \n",
    "                             create_quantum_state([one_qubit, one_qubit]))\n",
    "\n",
    "N = 1000\n",
    "occurrences = [0, 0]\n",
    "for _ in range(N):\n",
    "    if measure(build_psi()) == \"|00>\":\n",
    "        occurrences[0] += 1\n",
    "    else:\n",
    "        occurrences[1] += 1\n",
    "\n",
    "print(\"|00> with probability \", occurrences[0] * 100.0 / N)\n",
    "print(\"|11> with probability \", occurrences[1] * 100.0 / N)"
   ]
  },
  {
   "cell_type": "markdown",
   "metadata": {},
   "source": [
    "## Decoherence\n",
    "Two waves are **coherent** if they have the same frequency and a constant phase difference, and the same waveform. The **decoherence** phenomena may alter such properties of a qubit leading to incorrect or unexpected measurements.\n",
    "\n",
    "- $T_{1}$ is the **relaxation time** and it quantifies how quickly the qubit loses its energy. Given a qubit with initial state $\\ket{1}$ the probability of actually measuring 1 is NOT constant in time: P($\\ket{1}$) = $e^{\\frac{-t}{T_{1}}}$.\n",
    "- $T_{2}$ is the **dephasing time**. Similarly to $T_{1}$, $T_{2}$ describes the decay from the state $\\ket{+}$ to $\\ket{-}$. **It is not the time between the two states, but a measure of how quickly the initial and final states become uncorrelated.**"
   ]
  }
 ],
 "metadata": {
  "kernelspec": {
   "display_name": "bookkernel",
   "language": "python",
   "name": "bookkernel"
  },
  "language_info": {
   "codemirror_mode": {
    "name": "ipython",
    "version": 3
   },
   "file_extension": ".py",
   "mimetype": "text/x-python",
   "name": "python",
   "nbconvert_exporter": "python",
   "pygments_lexer": "ipython3",
   "version": "3.8.2"
  },
  "pycharm": {
   "stem_cell": {
    "cell_type": "raw",
    "metadata": {
     "collapsed": false
    },
    "source": []
   }
  },
  "widgets": {
   "application/vnd.jupyter.widget-state+json": {
    "state": {},
    "version_major": 2,
    "version_minor": 0
   }
  }
 },
 "nbformat": 4,
 "nbformat_minor": 1
}
