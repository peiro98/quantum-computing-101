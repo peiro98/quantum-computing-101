{
 "cells": [
  {
   "cell_type": "markdown",
   "metadata": {},
   "source": [
    "# CNOT gate\n",
    "The Controlled NOT gate operates on two qubits. The second qubit (**target**) is flipped if and only if the first qubit (**control**) is |1⟩.\n",
    "\n",
    "From a classical computing viewpoint the output of a CNOT gate can be (improperly) described as:\n",
    "CNOT|a, b⟩ = |a, a ⊕ b⟩\n",
    "where ⊕ represents the XOR boolean operation.\n",
    "\n",
    "\n",
    "| Initial State | Final State |\n",
    "| :---:  | :---: |\n",
    "| &#124;00⟩ | &#124;00⟩ |\n",
    "| &#124;01⟩ | &#124;01⟩ | \n",
    "| &#124;10⟩ | &#124;11⟩ |\n",
    "| &#124;11⟩ | &#124;10⟩ |\n",
    "    "
   ]
  },
  {
   "cell_type": "code",
   "execution_count": 1,
   "metadata": {},
   "outputs": [],
   "source": [
    "from functools import reduce\n",
    "from itertools import product\n",
    "from math import log\n",
    "\n",
    "import numpy as np\n",
    "np.set_printoptions(precision=3, suppress=True, floatmode='fixed', sign='+')"
   ]
  },
  {
   "cell_type": "code",
   "execution_count": 2,
   "metadata": {},
   "outputs": [],
   "source": [
    "# CNOT is a 4x4 matrix\n",
    "Cx = np.array([[1, 0, 0, 0],\n",
    "               [0, 1, 0, 0],\n",
    "               [0, 0, 0, 1],\n",
    "               [0, 0, 1, 0]], dtype=np.complex64)\n",
    "\n",
    "zero_qubit = np.array([1, 0]).T\n",
    "one_qubit = np.array([0, 1]).T\n",
    "\n",
    "plus_qubit = 1 / np.sqrt(2) * np.array([1, 1]).T\n",
    "minus_qubit = 1 / np.sqrt(2) * np.array([1, -1]).T\n",
    "\n",
    "cw_qubit = 1 / np.sqrt(2) * np.array([1, 1.0j]).T\n",
    "ccw_qubit = 1 / np.sqrt(2) * np.array([1, -1.0j]).T\n",
    "\n",
    "# from quantum_registers notebook\n",
    "def create_quantum_state(qubits):\n",
    "    return reduce(lambda x,y: np.kron(x, y), qubits)"
   ]
  },
  {
   "cell_type": "code",
   "execution_count": 3,
   "metadata": {},
   "outputs": [
    {
     "name": "stdout",
     "output_type": "stream",
     "text": [
      "CNOT|00⟩ = [+1.000+0.000j +0.000+0.000j +0.000+0.000j +0.000+0.000j]\n",
      "CNOT|01⟩ = [+0.000+0.000j +1.000+0.000j +0.000+0.000j +0.000+0.000j]\n",
      "CNOT|10⟩ = [+0.000+0.000j +0.000+0.000j +0.000+0.000j +1.000+0.000j]\n",
      "CNOT|11⟩ = [+0.000+0.000j +0.000+0.000j +1.000+0.000j +0.000+0.000j]\n"
     ]
    }
   ],
   "source": [
    "a = create_quantum_state([zero_qubit, zero_qubit])\n",
    "print(\"CNOT|00⟩ =\", Cx @ a)\n",
    "\n",
    "b = create_quantum_state([zero_qubit, one_qubit])\n",
    "print(\"CNOT|01⟩ =\", Cx @ b)\n",
    "\n",
    "c = create_quantum_state([one_qubit, zero_qubit])\n",
    "print(\"CNOT|10⟩ =\", Cx @ c)\n",
    "\n",
    "d = create_quantum_state([one_qubit, one_qubit])\n",
    "print(\"CNOT|11⟩ =\", Cx @ d)"
   ]
  },
  {
   "cell_type": "markdown",
   "metadata": {},
   "source": [
    "## Entanglement\n",
    "\n",
    "What happens when the CNOT is applied to a quantum state created from the the qubits |+⟩ and |0⟩?\n",
    "\n",
    "CNOT|Ψ⟩ = $\\frac{1}{\\sqrt{2}}$ (CNOT|00⟩ + CNOT|10⟩) = $\\frac{1}{\\sqrt{2}}$ (|00⟩ + |11⟩)\n",
    "\n",
    "As it was discussed in the quantum_registers notebook this state is non separable. In other words, it is an **entangled state**."
   ]
  },
  {
   "cell_type": "code",
   "execution_count": 4,
   "metadata": {},
   "outputs": [
    {
     "name": "stdout",
     "output_type": "stream",
     "text": [
      "CNOT|Ψ⟩ = [+0.707+0.000j +0.000+0.000j +0.000+0.000j +0.707+0.000j]\n"
     ]
    }
   ],
   "source": [
    "psi = create_quantum_state([plus_qubit, zero_qubit])\n",
    "out = Cx @ psi\n",
    "\n",
    "print(\"CNOT|Ψ⟩ =\", out)"
   ]
  },
  {
   "cell_type": "code",
   "execution_count": 5,
   "metadata": {},
   "outputs": [
    {
     "name": "stdout",
     "output_type": "stream",
     "text": [
      "None\n"
     ]
    }
   ],
   "source": [
    "def guess_qubits(quantum_state):\n",
    "    v = [zero_qubit, one_qubit, plus_qubit, minus_qubit, cw_qubit, ccw_qubit]\n",
    "    n_qubits = int(log(quantum_state.size, 2))\n",
    "    \n",
    "    # product computes the cartesian product of the input iterables\n",
    "    # product(v, repeat=3) is the same as product(v, v, v)\n",
    "    for qubits in product(v, repeat=n_qubits):\n",
    "        guess = create_quantum_state(qubits)\n",
    "        \n",
    "        # check if the guessed state and the input are element-wise equal\n",
    "        if np.allclose(guess, quantum_state):\n",
    "            return qubits\n",
    "\n",
    "\n",
    "print(guess_qubits(out))"
   ]
  },
  {
   "cell_type": "code",
   "execution_count": 6,
   "metadata": {},
   "outputs": [
    {
     "name": "stdout",
     "output_type": "stream",
     "text": [
      "|11⟩  with probability  49.1\n",
      "|00⟩  with probability  50.9\n"
     ]
    }
   ],
   "source": [
    "from random import random\n",
    "\n",
    "def measure(state):\n",
    "    n = int(log(state.size, 2))\n",
    "    \n",
    "    # element-wise product\n",
    "    probabilities = state.conj() * state\n",
    "    \n",
    "    rand = random()\n",
    "    for idx, realization in enumerate(product([0, 1], repeat=n)):\n",
    "        if rand < sum(probabilities[0:(idx+1)]):\n",
    "            return \"|\" + \"\".join(map(str, realization)) + \"⟩\"\n",
    "\n",
    "N = 1000\n",
    "occurrences = dict()\n",
    "for _ in range(N):\n",
    "    m = measure(out)\n",
    "    if m not in occurrences:\n",
    "        occurrences[m] = 0\n",
    "    occurrences[m] += 1\n",
    "\n",
    "for k,v in occurrences.items():\n",
    "    print(k, \" with probability \", v * 100.0 / N)"
   ]
  }
 ],
 "metadata": {
  "kernelspec": {
   "display_name": "Python 3",
   "language": "python",
   "name": "python3"
  },
  "language_info": {
   "codemirror_mode": {
    "name": "ipython",
    "version": 3
   },
   "file_extension": ".py",
   "mimetype": "text/x-python",
   "name": "python",
   "nbconvert_exporter": "python",
   "pygments_lexer": "ipython3",
   "version": "3.8.2"
  },
  "pycharm": {
   "stem_cell": {
    "cell_type": "raw",
    "source": [],
    "metadata": {
     "collapsed": false
    }
   }
  }
 },
 "nbformat": 4,
 "nbformat_minor": 4
}