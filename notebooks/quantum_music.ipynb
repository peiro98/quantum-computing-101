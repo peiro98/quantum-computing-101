{
 "cells": [
  {
   "cell_type": "markdown",
   "metadata": {},
   "source": [
    "# Quantum music\n",
    "\n",
    "NOTE: this notebook follows the contents of chapter 08 of **Mastering Quantum Computing with IBM QX**. The original code is available at https://github.com/PacktPublishing/Mastering-Quantum-Computing-with-IBM-QX"
   ]
  },
  {
   "cell_type": "code",
   "execution_count": 1,
   "metadata": {},
   "outputs": [],
   "source": [
    "%matplotlib inline\n",
    "from qiskit import Aer\n",
    "from qiskit import IBMQ\n",
    "\n",
    "backend = Aer.get_backend('qasm_simulator')"
   ]
  },
  {
   "cell_type": "code",
   "execution_count": 2,
   "metadata": {},
   "outputs": [
    {
     "name": "stdout",
     "output_type": "stream",
     "text": [
      "pygame 1.9.6\n",
      "Hello from the pygame community. https://www.pygame.org/contribute.html\n",
      "A0 A#0 B0 C1 C#1 D1 D#1 E1 F1 F#1 G1 G#1 A1 A#1 B1 C2 C#2 D2 D#2 E2 F2 F#2 G2 G#2 A2 A#2 B2 C3 C#3 D3 D#3 E3 F3 F#3 G3 G#3 A3 A#3 B3 C4 C#4 D4 D#4 E4 F4 F#4 G4 G#4 A4 A#4 B4 C5 C#5 D5 D#5 E5 F5 F#5 G5 G#5 A5 A#5 B5 C6 C#6 D6 D#6 E6 F6 F#6 G6 G#6 A6 A#6 B6 C7 C#7 D7 D#7 E7 F7 F#7 G7 G#7 A7 A#7 B7 C8 "
     ]
    }
   ],
   "source": [
    "import numpy as np\n",
    "import pygame, pygame.sndarray\n",
    "import json\n",
    "\n",
    "\n",
    "# read midi conversion table\n",
    "with open(\"midi.json\") as f:\n",
    "        midi_conversion_tables = json.load(f)\n",
    "    \n",
    "midi_to_note_bin = midi_conversion_tables['midi_to_note_bin']\n",
    "midi_to_frequency_bin = midi_conversion_tables['midi_to_frequency_bin']\n",
    "\n",
    "\n",
    "def play_notes(freqs, volumes, duration=1000):\n",
    "    \"\"\"\n",
    "    freqs: a list of frequencies (Hz)\n",
    "    volumes: a list of volumes in the range [0..1]\n",
    "    duration: in milliseconds\n",
    "    \n",
    "    example usage:\n",
    "    play_notes([440,880],[0.6,0.2])\n",
    "    \"\"\"\n",
    "    \n",
    "    def wave(hz, volume):\n",
    "        amp = (2**14) * volume # 14 bit volume depth\n",
    "        n = int(44100/float(hz)) # num of samples\n",
    "        return amp * np.sin(np.arange(n) * np.pi * 2 / n)\n",
    "    \n",
    "    pygame.mixer.init()\n",
    "    n_samples = int(44100 * duration / 1000)\n",
    "    sample_wave = sum(np.resize(wave(hz, volume), (n_samples,)).astype(np.int16)  for hz, volume in zip(freqs, volumes))\n",
    "    stereo = np.vstack((sample_wave, sample_wave)).T.copy(order='C')\n",
    "    \n",
    "    sound = pygame.sndarray.make_sound(stereo)\n",
    "    \n",
    "    sound.play(-1)\n",
    "    pygame.time.delay(duration)\n",
    "    sound.stop()\n",
    "    pygame.time.delay(duration)\n",
    "    \n",
    "\n",
    "def play_all():\n",
    "    for k,v in midi_conversion_tables[\"note_to_frequency\"].items():\n",
    "        print(k, end=' ')\n",
    "        play_notes([float(v)], [0.8], duration=400)\n",
    "        \n",
    "\n",
    "play_all()"
   ]
  },
  {
   "cell_type": "code",
   "execution_count": 3,
   "metadata": {},
   "outputs": [],
   "source": [
    "def quantum_play_notes(qc, shots, backend=None):\n",
    "    \"\"\"\n",
    "    The quantum circuit 'qc' is executed 'shots' times. \n",
    "    Each time the measured output is converted using the \n",
    "    midi standard and played.\n",
    "    \"\"\"\n",
    "    backend = backend or Aer.get_backend('qasm_simulator')\n",
    "    \n",
    "    for i in range(shots):\n",
    "        sim = qiskit.execute(qc, backend=backend, shots=1)\n",
    "        result = sim.result().get_counts(qc)\n",
    "        # convert the measured values to note and frequencies\n",
    "        \n",
    "        for k in result.keys():\n",
    "            print(midi_to_note_bin[k], end=' ')   \n",
    "            play_notes([float(midi_to_frequency_bin[k])], [1.0])\n",
    "        \n",
    "        print()\n",
    "\n",
    "\n",
    "def quantum_play_chords(qc, shots, backend=None):\n",
    "    \"\"\"\n",
    "    Play a chord.\n",
    "    A quantum circuit 'qc' is executed and measured 'shots' times.\n",
    "    Then the results are collected and mapped to a superposition\n",
    "    of notes.\n",
    "    \"\"\"\n",
    "    backend = backend or Aer.get_backend('qasm_simulator')\n",
    "    sim = qiskit.execute(qc, backend=backend, shots=shots)\n",
    "    results = sim.result().get_counts(qc).items()\n",
    "    \n",
    "    freqs = []\n",
    "    volumes = []\n",
    "    \n",
    "    for k, v in results:\n",
    "        freqs += [float(midi_to_frequency_bin[k])]\n",
    "        volumes += [int(v)/shots]\n",
    "        \n",
    "        if k in midi_to_note_bin:\n",
    "            print('%f percent' % (int(v) / shots * 100), midi_to_note_bin[k])\n",
    "        else:\n",
    "            print('%f percent' % (int(v) / shots * 100), k)\n",
    "\n",
    "    play_notes(freqs,volumes)"
   ]
  },
  {
   "cell_type": "code",
   "execution_count": 4,
   "metadata": {},
   "outputs": [
    {
     "name": "stdout",
     "output_type": "stream",
     "text": [
      "G#3 \n",
      "E3 \n",
      "G#3 \n",
      "C4 \n",
      "C4 \n",
      "G#3 \n",
      "C4 \n",
      "G#3 \n",
      "C3 \n",
      "C3 \n",
      "C4 \n",
      "C4 \n",
      "E3 \n",
      "E3 \n",
      "G#3 \n",
      "C4 \n",
      "E3 \n",
      "C3 \n",
      "C3 \n",
      "E3 \n",
      "35.000000 percent C3\n",
      "20.000000 percent G#3\n",
      "25.000000 percent E3\n",
      "20.000000 percent C4\n"
     ]
    }
   ],
   "source": [
    "import qiskit\n",
    "from qiskit import ClassicalRegister, QuantumRegister\n",
    "from qiskit import QuantumCircuit, execute\n",
    "\n",
    "qr = QuantumRegister(7)\n",
    "cr = ClassicalRegister(7)\n",
    "qc = QuantumCircuit(qr, cr)\n",
    "\n",
    "qc.x(qr[4])\n",
    "qc.x(qr[5])\n",
    "qc.h(qr[2])\n",
    "qc.h(qr[3])\n",
    "\n",
    "qc.measure(qr, cr)\n",
    "\n",
    "quantum_play_notes(qc, 20)\n",
    "quantum_play_chords(qc, 20)"
   ]
  }
 ],
 "metadata": {
  "kernelspec": {
   "display_name": "Python 3",
   "language": "python",
   "name": "python3"
  },
  "language_info": {
   "codemirror_mode": {
    "name": "ipython",
    "version": 3
   },
   "file_extension": ".py",
   "mimetype": "text/x-python",
   "name": "python",
   "nbconvert_exporter": "python",
   "pygments_lexer": "ipython3",
   "version": "3.8.2"
  }
 },
 "nbformat": 4,
 "nbformat_minor": 4
}
