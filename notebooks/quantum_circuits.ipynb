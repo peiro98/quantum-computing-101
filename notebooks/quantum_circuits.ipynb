{
 "cells": [
  {
   "cell_type": "markdown",
   "metadata": {},
   "source": [
    "# Quantum Circuits\n",
    "\n",
    "NOTE: this notebook follows the contents of chapter 05 of **Mastering Quantum Computing with IBM QX**. The original code is available at https://github.com/PacktPublishing/Mastering-Quantum-Computing-with-IBM-QX"
   ]
  },
  {
   "cell_type": "code",
   "execution_count": 1,
   "metadata": {},
   "outputs": [],
   "source": [
    "%matplotlib inline\n",
    "import qiskit\n",
    "from qiskit import QuantumCircuit, ClassicalRegister, QuantumRegister\n",
    "\n",
    "from qiskit import IBMQ\n",
    "\n",
    "# IBMQ.save_account(\"put_your_token_here_and_uncommentb\")\n",
    "provider = IBMQ.load_account()"
   ]
  },
  {
   "cell_type": "code",
   "execution_count": 2,
   "metadata": {},
   "outputs": [
    {
     "name": "stdout",
     "output_type": "stream",
     "text": [
      "X|0⟩:\n"
     ]
    },
    {
     "data": {
      "text/html": [
       "<pre style=\"word-wrap: normal;white-space: pre;background: #fff0;line-height: 1.1;font-family: &quot;Courier New&quot;,Courier,monospace\">         ┌───┐\n",
       "q0_0: |0>┤ X ├\n",
       "         └───┘</pre>"
      ],
      "text/plain": [
       "         ┌───┐\n",
       "q0_0: |0>┤ X ├\n",
       "         └───┘"
      ]
     },
     "execution_count": 2,
     "metadata": {},
     "output_type": "execute_result"
    }
   ],
   "source": [
    "print(\"X|0⟩:\")\n",
    "\n",
    "qr = QuantumRegister(1)\n",
    "circuit = QuantumCircuit(qr)\n",
    "circuit.x(qr[0])\n",
    "circuit.draw()"
   ]
  },
  {
   "cell_type": "code",
   "execution_count": 3,
   "metadata": {},
   "outputs": [
    {
     "name": "stdout",
     "output_type": "stream",
     "text": [
      "XH|0⟩:\n"
     ]
    },
    {
     "data": {
      "text/html": [
       "<pre style=\"word-wrap: normal;white-space: pre;background: #fff0;line-height: 1.1;font-family: &quot;Courier New&quot;,Courier,monospace\">         ┌───┐┌───┐\n",
       "q1_0: |0>┤ H ├┤ X ├\n",
       "         └───┘└───┘</pre>"
      ],
      "text/plain": [
       "         ┌───┐┌───┐\n",
       "q1_0: |0>┤ H ├┤ X ├\n",
       "         └───┘└───┘"
      ]
     },
     "execution_count": 3,
     "metadata": {},
     "output_type": "execute_result"
    }
   ],
   "source": [
    "print(\"XH|0⟩:\")\n",
    "\n",
    "qr = QuantumRegister(1)\n",
    "circuit = QuantumCircuit(qr)\n",
    "circuit.h(qr[0])\n",
    "circuit.x(qr[0])\n",
    "circuit.draw()"
   ]
  },
  {
   "cell_type": "code",
   "execution_count": 4,
   "metadata": {},
   "outputs": [
    {
     "name": "stdout",
     "output_type": "stream",
     "text": [
      "CNOT|+0⟩:\n"
     ]
    },
    {
     "data": {
      "text/html": [
       "<pre style=\"word-wrap: normal;white-space: pre;background: #fff0;line-height: 1.1;font-family: &quot;Courier New&quot;,Courier,monospace\">         ┌───┐     ┌─┐   \n",
       "q2_0: |0>┤ H ├──■──┤M├───\n",
       "         └───┘┌─┴─┐└╥┘┌─┐\n",
       "q2_1: |0>─────┤ X ├─╫─┤M├\n",
       "              └───┘ ║ └╥┘\n",
       " c0_0: 0 ═══════════╩══╬═\n",
       "                       ║ \n",
       " c0_1: 0 ══════════════╩═\n",
       "                         </pre>"
      ],
      "text/plain": [
       "         ┌───┐     ┌─┐   \n",
       "q2_0: |0>┤ H ├──■──┤M├───\n",
       "         └───┘┌─┴─┐└╥┘┌─┐\n",
       "q2_1: |0>─────┤ X ├─╫─┤M├\n",
       "              └───┘ ║ └╥┘\n",
       " c0_0: 0 ═══════════╩══╬═\n",
       "                       ║ \n",
       " c0_1: 0 ══════════════╩═\n",
       "                         "
      ]
     },
     "execution_count": 4,
     "metadata": {},
     "output_type": "execute_result"
    }
   ],
   "source": [
    "print(\"CNOT|+0⟩:\")\n",
    "\n",
    "cr = ClassicalRegister(2)\n",
    "qr = QuantumRegister(2)\n",
    "\n",
    "circuit = QuantumCircuit(qr, cr)\n",
    "circuit.h(qr[0])\n",
    "\n",
    "# cx(control, target)\n",
    "circuit.cx(qr[0], qr[1])\n",
    "circuit.measure(qr, cr)\n",
    "\n",
    "circuit.draw()"
   ]
  },
  {
   "cell_type": "markdown",
   "metadata": {},
   "source": [
    "## Reversible circuit"
   ]
  },
  {
   "cell_type": "code",
   "execution_count": 5,
   "metadata": {},
   "outputs": [
    {
     "data": {
      "text/html": [
       "<pre style=\"word-wrap: normal;white-space: pre;background: #fff0;line-height: 1.1;font-family: &quot;Courier New&quot;,Courier,monospace\">              ┌─┐                                 \n",
       "q3_0: |0>─────┤M├─────────────────────────────────\n",
       "         ┌───┐└╥┘┌───┐┌───┐            ┌───┐┌─┐   \n",
       "q3_1: |0>┤ X ├─╫─┤ X ├┤ X ├────────────┤ X ├┤M├───\n",
       "         └─┬─┘ ║ ├───┤├───┤┌─────┐┌───┐└─┬─┘└╥┘┌─┐\n",
       "q3_2: |0>──■───╫─┤ H ├┤ T ├┤ Tdg ├┤ H ├──■───╫─┤M├\n",
       "         ┌───┐ ║ ├───┤├───┤├─────┤└┬─┬┘      ║ └╥┘\n",
       "q3_3: |0>┤ S ├─╫─┤ Z ├┤ Z ├┤ Sdg ├─┤M├───────╫──╫─\n",
       "         ├───┤ ║ ├───┤└┬─┬┘└─────┘ └╥┘       ║  ║ \n",
       "q3_4: |0>┤ Y ├─╫─┤ Y ├─┤M├──────────╫────────╫──╫─\n",
       "         └───┘ ║ └───┘ └╥┘          ║        ║  ║ \n",
       " c1_0: 0 ══════╩════════╬═══════════╬════════╬══╬═\n",
       "                        ║           ║        ║  ║ \n",
       " c1_1: 0 ═══════════════╬═══════════╬════════╩══╬═\n",
       "                        ║           ║           ║ \n",
       " c1_2: 0 ═══════════════╬═══════════╬═══════════╩═\n",
       "                        ║           ║             \n",
       " c1_3: 0 ═══════════════╬═══════════╩═════════════\n",
       "                        ║                         \n",
       " c1_4: 0 ═══════════════╩═════════════════════════\n",
       "                                                  </pre>"
      ],
      "text/plain": [
       "              ┌─┐                                 \n",
       "q3_0: |0>─────┤M├─────────────────────────────────\n",
       "         ┌───┐└╥┘┌───┐┌───┐            ┌───┐┌─┐   \n",
       "q3_1: |0>┤ X ├─╫─┤ X ├┤ X ├────────────┤ X ├┤M├───\n",
       "         └─┬─┘ ║ ├───┤├───┤┌─────┐┌───┐└─┬─┘└╥┘┌─┐\n",
       "q3_2: |0>──■───╫─┤ H ├┤ T ├┤ Tdg ├┤ H ├──■───╫─┤M├\n",
       "         ┌───┐ ║ ├───┤├───┤├─────┤└┬─┬┘      ║ └╥┘\n",
       "q3_3: |0>┤ S ├─╫─┤ Z ├┤ Z ├┤ Sdg ├─┤M├───────╫──╫─\n",
       "         ├───┤ ║ ├───┤└┬─┬┘└─────┘ └╥┘       ║  ║ \n",
       "q3_4: |0>┤ Y ├─╫─┤ Y ├─┤M├──────────╫────────╫──╫─\n",
       "         └───┘ ║ └───┘ └╥┘          ║        ║  ║ \n",
       " c1_0: 0 ══════╩════════╬═══════════╬════════╬══╬═\n",
       "                        ║           ║        ║  ║ \n",
       " c1_1: 0 ═══════════════╬═══════════╬════════╩══╬═\n",
       "                        ║           ║           ║ \n",
       " c1_2: 0 ═══════════════╬═══════════╬═══════════╩═\n",
       "                        ║           ║             \n",
       " c1_3: 0 ═══════════════╬═══════════╩═════════════\n",
       "                        ║                         \n",
       " c1_4: 0 ═══════════════╩═════════════════════════\n",
       "                                                  "
      ]
     },
     "execution_count": 5,
     "metadata": {},
     "output_type": "execute_result"
    }
   ],
   "source": [
    "qr = QuantumRegister(5)\n",
    "cr = ClassicalRegister(5)\n",
    "\n",
    "circuit = QuantumCircuit(qr, cr)\n",
    "circuit.cx(qr[2],qr[1])\n",
    "circuit.x(qr[1])\n",
    "circuit.h(qr[2])\n",
    "circuit.s(qr[3])\n",
    "circuit.y(qr[4])\n",
    "circuit.z(qr[3])\n",
    "circuit.t(qr[2])\n",
    "circuit.tdg(qr[2])\n",
    "circuit.z(qr[3])\n",
    "\n",
    "circuit.y(qr[4])\n",
    "circuit.sdg(qr[3])\n",
    "circuit.h(qr[2])\n",
    "circuit.x(qr[1])\n",
    "circuit.cx(qr[2],qr[1])\n",
    "\n",
    "circuit.measure(qr, cr)\n",
    "circuit.draw()"
   ]
  },
  {
   "cell_type": "code",
   "execution_count": 6,
   "metadata": {},
   "outputs": [
    {
     "data": {
      "image/png": "[encoded data removed]",
      "text/plain": [
       "<Figure size 504x360 with 1 Axes>"
      ]
     },
     "execution_count": 6,
     "metadata": {},
     "output_type": "execute_result"
    }
   ],
   "source": [
    "backend = provider.get_backend('ibmq_rome')\n",
    "job = qiskit.execute(circuit, backend=backend)\n",
    "\n",
    "from qiskit.tools.visualization import plot_histogram\n",
    "plot_histogram(job.result().get_counts(circuit))"
   ]
  },
  {
   "cell_type": "markdown",
   "metadata": {},
   "source": [
    "This result is not what we would have expected since all the transformations applied are reversed. Neverthless the presence of noise affects the measurement. The result |00000⟩ is found in a probabilistic sense."
   ]
  },
  {
   "cell_type": "markdown",
   "metadata": {},
   "source": [
    "## Swap of two qubits\n",
    "\n",
    "1. Apply CNOT to |ab⟩:\n",
    "CNOT|ab⟩ = |a,a⊕b⟩\n",
    "2. Apply CNOT to the previus result swapping control and target qubits:\n",
    "CNOT|a⊕b,a⟩ = |a⊕b,a⊕b⊕a⟩ = |a⊕b,b⟩\n",
    "3. Apply CNOT to the previus result swapping again control and target qubits:\n",
    "CNOT|b,a⊕b⟩ = |b,a⊕b⊕b⟩ = |ba⟩"
   ]
  },
  {
   "cell_type": "code",
   "execution_count": 7,
   "metadata": {},
   "outputs": [
    {
     "data": {
      "text/html": [
       "<pre style=\"word-wrap: normal;white-space: pre;background: #fff0;line-height: 1.1;font-family: &quot;Courier New&quot;,Courier,monospace\">              ┌───┐     \n",
       "q4_0: |0>──■──┤ X ├──■──\n",
       "         ┌─┴─┐└─┬─┘┌─┴─┐\n",
       "q4_1: |0>┤ X ├──■──┤ X ├\n",
       "         └───┘     └───┘</pre>"
      ],
      "text/plain": [
       "              ┌───┐     \n",
       "q4_0: |0>──■──┤ X ├──■──\n",
       "         ┌─┴─┐└─┬─┘┌─┴─┐\n",
       "q4_1: |0>┤ X ├──■──┤ X ├\n",
       "         └───┘     └───┘"
      ]
     },
     "execution_count": 7,
     "metadata": {},
     "output_type": "execute_result"
    }
   ],
   "source": [
    "qr = QuantumRegister(2)\n",
    "circuit = QuantumCircuit(qr)\n",
    "\n",
    "circuit.cx(qr[0], qr[1])\n",
    "circuit.cx(qr[1], qr[0])\n",
    "circuit.cx(qr[0], qr[1])\n",
    "\n",
    "circuit.draw()"
   ]
  },
  {
   "cell_type": "markdown",
   "metadata": {},
   "source": [
    "# Exercises"
   ]
  },
  {
   "cell_type": "markdown",
   "metadata": {},
   "source": [
    "## Exercise 01-04\n",
    "Draw the quantum circuit that applies S<sup>†</sup> to |-⟩."
   ]
  },
  {
   "cell_type": "code",
   "execution_count": 8,
   "metadata": {},
   "outputs": [
    {
     "data": {
      "text/html": [
       "<pre style=\"word-wrap: normal;white-space: pre;background: #fff0;line-height: 1.1;font-family: &quot;Courier New&quot;,Courier,monospace\">         ┌───┐┌───┐┌─────┐┌─┐\n",
       " q_0: |0>┤ X ├┤ H ├┤ Sdg ├┤M├\n",
       "         └───┘└───┘└─────┘└╥┘\n",
       "out_0: 0 ══════════════════╩═\n",
       "                             </pre>"
      ],
      "text/plain": [
       "         ┌───┐┌───┐┌─────┐┌─┐\n",
       " q_0: |0>┤ X ├┤ H ├┤ Sdg ├┤M├\n",
       "         └───┘└───┘└─────┘└╥┘\n",
       "out_0: 0 ══════════════════╩═\n",
       "                             "
      ]
     },
     "execution_count": 8,
     "metadata": {},
     "output_type": "execute_result"
    }
   ],
   "source": [
    "qr = QuantumRegister(1, name='q')\n",
    "cr = ClassicalRegister(1, name='out')\n",
    "circuit = QuantumCircuit(qr, cr)\n",
    "\n",
    "circuit.x(qr[0])\n",
    "circuit.h(qr[0])\n",
    "circuit.sdg(qr[0])\n",
    "\n",
    "circuit.measure(qr, cr)\n",
    "circuit.draw()"
   ]
  },
  {
   "cell_type": "markdown",
   "metadata": {},
   "source": [
    "## Exercise 05\n",
    "Measure a CNOT gate acting with control qubit of S<sup>†</sup>|-⟩ and a target of |0⟩."
   ]
  },
  {
   "cell_type": "code",
   "execution_count": 9,
   "metadata": {},
   "outputs": [
    {
     "data": {
      "text/html": [
       "<pre style=\"word-wrap: normal;white-space: pre;background: #fff0;line-height: 1.1;font-family: &quot;Courier New&quot;,Courier,monospace\">         ┌───┐┌───┐┌─────┐     ┌─┐   \n",
       "q5_0: |0>┤ X ├┤ H ├┤ Sdg ├──■──┤M├───\n",
       "         └───┘└───┘└─────┘┌─┴─┐└╥┘┌─┐\n",
       "q5_1: |0>─────────────────┤ X ├─╫─┤M├\n",
       "                          └───┘ ║ └╥┘\n",
       " c2_0: 0 ═══════════════════════╩══╬═\n",
       "                                   ║ \n",
       " c2_1: 0 ══════════════════════════╩═\n",
       "                                     </pre>"
      ],
      "text/plain": [
       "         ┌───┐┌───┐┌─────┐     ┌─┐   \n",
       "q5_0: |0>┤ X ├┤ H ├┤ Sdg ├──■──┤M├───\n",
       "         └───┘└───┘└─────┘┌─┴─┐└╥┘┌─┐\n",
       "q5_1: |0>─────────────────┤ X ├─╫─┤M├\n",
       "                          └───┘ ║ └╥┘\n",
       " c2_0: 0 ═══════════════════════╩══╬═\n",
       "                                   ║ \n",
       " c2_1: 0 ══════════════════════════╩═\n",
       "                                     "
      ]
     },
     "execution_count": 9,
     "metadata": {},
     "output_type": "execute_result"
    }
   ],
   "source": [
    "qr = QuantumRegister(2)\n",
    "cr = ClassicalRegister(2)\n",
    "\n",
    "circuit = QuantumCircuit(qr, cr)\n",
    "\n",
    "circuit.x(qr[0])\n",
    "circuit.h(qr[0])\n",
    "circuit.sdg(qr[0])\n",
    "\n",
    "circuit.cx(qr[0], qr[1])\n",
    "\n",
    "circuit.measure(qr, cr)\n",
    "circuit.draw()"
   ]
  },
  {
   "cell_type": "markdown",
   "metadata": {},
   "source": [
    "## Exercise 06\n",
    "Reverse the computation of |v⟩ = XXYSZTS<sup>†</sup>HHTS|+⟩.\n",
    "\n",
    "The expression can be simplified: |v⟩ = XXYSZTS<sup>†</sup>HHTS|+⟩ = YSZTS<sup>†</sup>TS|+⟩.\n",
    "\n",
    "Then the inverse computation is given by: S<sup>†</sup>T<sup>†</sup>ST<sup>†</sup>ZS<sup>†</sup>Y|v⟩ = |+⟩.\n",
    "\n",
    "Proof:"
   ]
  },
  {
   "cell_type": "code",
   "execution_count": 10,
   "metadata": {},
   "outputs": [
    {
     "name": "stdout",
     "output_type": "stream",
     "text": [
      "[+0.000-0.707j +0.000+0.707j]\n",
      "[+0.707-0.000j +0.707+0.000j]\n"
     ]
    }
   ],
   "source": [
    "import numpy as np\n",
    "np.set_printoptions(precision=3, suppress=True, floatmode='fixed', sign='+')\n",
    "\n",
    "H = 1 / np.sqrt(2) * np.array([[1.0, 1.0],\n",
    "                               [1.0, -1.0]], dtype=np.complex64)\n",
    "\n",
    "X = np.array([[0, 1.0],\n",
    "              [1.0, 0]], dtype=np.complex64)\n",
    "\n",
    "Y = np.array([[0, -1j],\n",
    "              [1j, 0]], dtype=np.complex64)\n",
    "\n",
    "Z = np.array([[1.0, 0],\n",
    "              [0, -1.0]], dtype=np.complex64)\n",
    "\n",
    "\n",
    "def phase_shift(phi: np.real):\n",
    "    return np.array([[1.0, 0],\n",
    "                     [0, np.e ** (1.0j * phi)]], dtype=np.complex64)\n",
    "\n",
    "\n",
    "S = phase_shift(np.pi / 2)\n",
    "Sdg = phase_shift(-np.pi / 2)\n",
    "\n",
    "T = phase_shift(np.pi / 4)\n",
    "Tdg = phase_shift(-np.pi / 4)\n",
    "\n",
    "plus_qubit = 1 / np.sqrt(2) * np.array([1.0+0.0j, 1+0.0j]).T\n",
    "\n",
    "v = X @ X @ Y @ S @ Z @ T @ Sdg @ H @ H @ T @ S @ plus_qubit\n",
    "inv = Sdg @ Tdg @ S @ Tdg @ Z @ Sdg @ Y\n",
    "\n",
    "print(v)\n",
    "print(inv @ v)"
   ]
  },
  {
   "cell_type": "markdown",
   "metadata": {},
   "source": [
    "## Exercise 08\n",
    "Prepare the |01011101⟩ state in an 8-qubit quantum circuit. Then perform a computation on the state using the gates of your choice. Next add gates to reverse your computation. Finally, imagine you measure each qubit in the |0⟩ and |1⟩ basis and place the result in a classical register. What would the register contain?"
   ]
  },
  {
   "cell_type": "code",
   "execution_count": 11,
   "metadata": {},
   "outputs": [
    {
     "data": {
      "text/html": [
       "<pre style=\"word-wrap: normal;white-space: pre;background: #fff0;line-height: 1.1;font-family: &quot;Courier New&quot;,Courier,monospace\">         ┌───┐ ┌───┐ ┌───┐  ┌───┐ ┌───┐┌───┐┌───┐                  ┌─┐   \n",
       "q6_0: |0>┤ X ├─┤ Y ├─┤ S ├──┤ S ├─┤ Z ├┤ Y ├┤ X ├──────────────────┤M├───\n",
       "         ├───┤ └───┘ └───┘  └───┘ └┬─┬┘└───┘└───┘                  └╥┘   \n",
       "q6_1: |0>┤ X ├───■─────■───────────┤M├──────────────────────────────╫────\n",
       "         └───┘ ┌─┴─┐ ┌─┴─┐         └╥┘  ┌─┐                         ║    \n",
       "q6_2: |0>──────┤ X ├─┤ X ├──────────╫───┤M├─────────────────────────╫────\n",
       "         ┌───┐ ├───┤┌┴───┴┐┌─────┐  ║   └╥┘ ┌───┐┌───┐          ┌─┐ ║    \n",
       "q6_3: |0>┤ X ├─┤ H ├┤ Tdg ├┤ Tdg ├──╫────╫──┤ S ├┤ H ├──────────┤M├─╫────\n",
       "         ├───┤ ├───┤└┬───┬┘└─────┘  ║    ║  └┬─┬┘└───┘          └╥┘ ║    \n",
       "q6_4: |0>┤ X ├─┤ H ├─┤ H ├──────────╫────╫───┤M├─────────────────╫──╫────\n",
       "         ├───┤ ├───┤ ├───┤  ┌───┐   ║    ║   └╥┘ ┌───┐┌───┐┌───┐ ║  ║ ┌─┐\n",
       "q6_5: |0>┤ X ├─┤ X ├─┤ H ├──┤ Z ├───╫────╫────╫──┤ Z ├┤ H ├┤ X ├─╫──╫─┤M├\n",
       "         ├───┴┐└───┘ └┬─┬┘  └───┘   ║    ║    ║  └───┘└───┘└───┘ ║  ║ └╥┘\n",
       "q6_6: |0>┤ Id ├───────┤M├───────────╫────╫────╫──────────────────╫──╫──╫─\n",
       "         ├───┬┘┌───┐  └╥┘   ┌───┐   ║    ║    ║   ┌─┐            ║  ║  ║ \n",
       "q6_7: |0>┤ X ├─┤ X ├───╫────┤ X ├───╫────╫────╫───┤M├────────────╫──╫──╫─\n",
       "         └───┘ └───┘   ║    └───┘   ║    ║    ║   └╥┘            ║  ║  ║ \n",
       " c3_0: 0 ══════════════╬════════════╬════╬════╬════╬═════════════╬══╩══╬═\n",
       "                       ║            ║    ║    ║    ║             ║     ║ \n",
       " c3_1: 0 ══════════════╬════════════╩════╬════╬════╬═════════════╬═════╬═\n",
       "                       ║                 ║    ║    ║             ║     ║ \n",
       " c3_2: 0 ══════════════╬═════════════════╩════╬════╬═════════════╬═════╬═\n",
       "                       ║                      ║    ║             ║     ║ \n",
       " c3_3: 0 ══════════════╬══════════════════════╬════╬═════════════╩═════╬═\n",
       "                       ║                      ║    ║                   ║ \n",
       " c3_4: 0 ══════════════╬══════════════════════╩════╬═══════════════════╬═\n",
       "                       ║                           ║                   ║ \n",
       " c3_5: 0 ══════════════╬═══════════════════════════╬═══════════════════╩═\n",
       "                       ║                           ║                     \n",
       " c3_6: 0 ══════════════╩═══════════════════════════╬═════════════════════\n",
       "                                                   ║                     \n",
       " c3_7: 0 ══════════════════════════════════════════╩═════════════════════\n",
       "                                                                         </pre>"
      ],
      "text/plain": [
       "         ┌───┐ ┌───┐ ┌───┐  ┌───┐ ┌───┐┌───┐┌───┐                  ┌─┐   \n",
       "q6_0: |0>┤ X ├─┤ Y ├─┤ S ├──┤ S ├─┤ Z ├┤ Y ├┤ X ├──────────────────┤M├───\n",
       "         ├───┤ └───┘ └───┘  └───┘ └┬─┬┘└───┘└───┘                  └╥┘   \n",
       "q6_1: |0>┤ X ├───■─────■───────────┤M├──────────────────────────────╫────\n",
       "         └───┘ ┌─┴─┐ ┌─┴─┐         └╥┘  ┌─┐                         ║    \n",
       "q6_2: |0>──────┤ X ├─┤ X ├──────────╫───┤M├─────────────────────────╫────\n",
       "         ┌───┐ ├───┤┌┴───┴┐┌─────┐  ║   └╥┘ ┌───┐┌───┐          ┌─┐ ║    \n",
       "q6_3: |0>┤ X ├─┤ H ├┤ Tdg ├┤ Tdg ├──╫────╫──┤ S ├┤ H ├──────────┤M├─╫────\n",
       "         ├───┤ ├───┤└┬───┬┘└─────┘  ║    ║  └┬─┬┘└───┘          └╥┘ ║    \n",
       "q6_4: |0>┤ X ├─┤ H ├─┤ H ├──────────╫────╫───┤M├─────────────────╫──╫────\n",
       "         ├───┤ ├───┤ ├───┤  ┌───┐   ║    ║   └╥┘ ┌───┐┌───┐┌───┐ ║  ║ ┌─┐\n",
       "q6_5: |0>┤ X ├─┤ X ├─┤ H ├──┤ Z ├───╫────╫────╫──┤ Z ├┤ H ├┤ X ├─╫──╫─┤M├\n",
       "         ├───┴┐└───┘ └┬─┬┘  └───┘   ║    ║    ║  └───┘└───┘└───┘ ║  ║ └╥┘\n",
       "q6_6: |0>┤ Id ├───────┤M├───────────╫────╫────╫──────────────────╫──╫──╫─\n",
       "         ├───┬┘┌───┐  └╥┘   ┌───┐   ║    ║    ║   ┌─┐            ║  ║  ║ \n",
       "q6_7: |0>┤ X ├─┤ X ├───╫────┤ X ├───╫────╫────╫───┤M├────────────╫──╫──╫─\n",
       "         └───┘ └───┘   ║    └───┘   ║    ║    ║   └╥┘            ║  ║  ║ \n",
       " c3_0: 0 ══════════════╬════════════╬════╬════╬════╬═════════════╬══╩══╬═\n",
       "                       ║            ║    ║    ║    ║             ║     ║ \n",
       " c3_1: 0 ══════════════╬════════════╩════╬════╬════╬═════════════╬═════╬═\n",
       "                       ║                 ║    ║    ║             ║     ║ \n",
       " c3_2: 0 ══════════════╬═════════════════╩════╬════╬═════════════╬═════╬═\n",
       "                       ║                      ║    ║             ║     ║ \n",
       " c3_3: 0 ══════════════╬══════════════════════╬════╬═════════════╩═════╬═\n",
       "                       ║                      ║    ║                   ║ \n",
       " c3_4: 0 ══════════════╬══════════════════════╩════╬═══════════════════╬═\n",
       "                       ║                           ║                   ║ \n",
       " c3_5: 0 ══════════════╬═══════════════════════════╬═══════════════════╩═\n",
       "                       ║                           ║                     \n",
       " c3_6: 0 ══════════════╩═══════════════════════════╬═════════════════════\n",
       "                                                   ║                     \n",
       " c3_7: 0 ══════════════════════════════════════════╩═════════════════════\n",
       "                                                                         "
      ]
     },
     "execution_count": 11,
     "metadata": {},
     "output_type": "execute_result"
    }
   ],
   "source": [
    "qr = QuantumRegister(8)\n",
    "cr = ClassicalRegister(8)\n",
    "\n",
    "circuit = QuantumCircuit(qr, cr)\n",
    "\n",
    "# initial state\n",
    "circuit.x(qr[1])\n",
    "circuit.x(qr[3])\n",
    "circuit.x(qr[4])\n",
    "circuit.x(qr[5])\n",
    "circuit.x(qr[7])\n",
    "\n",
    "circuit.x(qr[0])\n",
    "circuit.y(qr[0])\n",
    "circuit.s(qr[0])\n",
    "circuit.s(qr[0])\n",
    "circuit.z(qr[0])\n",
    "circuit.y(qr[0])\n",
    "circuit.x(qr[0])\n",
    "\n",
    "circuit.cx(qr[1], qr[2])\n",
    "circuit.cx(qr[1], qr[2])\n",
    "\n",
    "circuit.h(qr[3])\n",
    "circuit.tdg(qr[3])\n",
    "circuit.tdg(qr[3])\n",
    "circuit.s(qr[3])\n",
    "circuit.h(qr[3])\n",
    "\n",
    "circuit.h(qr[4])\n",
    "circuit.h(qr[4])\n",
    "\n",
    "circuit.x(qr[5])\n",
    "circuit.h(qr[5])\n",
    "circuit.z(qr[5])\n",
    "circuit.z(qr[5])\n",
    "circuit.h(qr[5])\n",
    "circuit.x(qr[5])\n",
    "\n",
    "circuit.iden(qr[6])\n",
    "\n",
    "circuit.x(qr[7])\n",
    "circuit.x(qr[7])\n",
    "\n",
    "circuit.measure(qr, cr)\n",
    "circuit.draw()"
   ]
  },
  {
   "cell_type": "code",
   "execution_count": null,
   "metadata": {},
   "outputs": [],
   "source": [
    "# use a quantum computer with at least 8 qubits\n",
    "backend = provider.get_backend('ibmq_16_melbourne')\n",
    "job = qiskit.execute(circuit, backend=backend)"
   ]
  },
  {
   "cell_type": "code",
   "execution_count": 14,
   "metadata": {},
   "outputs": [
    {
     "data": {
      "text/plain": [
       "{'10111010': 624,\n",
       " '00001010': 2,\n",
       " '11111010': 3,\n",
       " '10010010': 9,\n",
       " '00011000': 1,\n",
       " '00111000': 9,\n",
       " '10101000': 8,\n",
       " '00011010': 9,\n",
       " '00010010': 1,\n",
       " '10001010': 9,\n",
       " '00111010': 59,\n",
       " '10110000': 2,\n",
       " '10111011': 3,\n",
       " '10110010': 43,\n",
       " '10111110': 1,\n",
       " '10001110': 1,\n",
       " '10010110': 1,\n",
       " '11101010': 2,\n",
       " '10111000': 38,\n",
       " '10000010': 1,\n",
       " '10010000': 1,\n",
       " '00101000': 1,\n",
       " '11011010': 1,\n",
       " '10101010': 69,\n",
       " '00110010': 6,\n",
       " '10011000': 6,\n",
       " '10100000': 1,\n",
       " '10100010': 5,\n",
       " '00100010': 1,\n",
       " '00101010': 12,\n",
       " '10011010': 95}"
      ]
     },
     "execution_count": 14,
     "metadata": {},
     "output_type": "execute_result"
    }
   ],
   "source": [
    "job.result().get_counts(circuit)"
   ]
  }
 ],
 "metadata": {
  "kernelspec": {
   "display_name": "Python 3",
   "language": "python",
   "name": "python3"
  },
  "language_info": {
   "codemirror_mode": {
    "name": "ipython",
    "version": 3
   },
   "file_extension": ".py",
   "mimetype": "text/x-python",
   "name": "python",
   "nbconvert_exporter": "python",
   "pygments_lexer": "ipython3",
   "version": "3.8.2"
  }
 },
 "nbformat": 4,
 "nbformat_minor": 4
}
